{
  "nbformat": 4,
  "nbformat_minor": 5,
  "metadata": {
    "kernelspec": {
      "display_name": "Python 3",
      "language": "python",
      "name": "python3"
    },
    "language_info": {
      "codemirror_mode": {
        "name": "ipython",
        "version": 3
      },
      "file_extension": ".py",
      "mimetype": "text/x-python",
      "name": "python",
      "nbconvert_exporter": "python",
      "pygments_lexer": "ipython3",
      "version": "3.9.1"
    },
    "colab": {
      "provenance": [],
      "include_colab_link": true
    }
  },
  "cells": [
    {
      "cell_type": "markdown",
      "metadata": {
        "id": "view-in-github",
        "colab_type": "text"
      },
      "source": [
        "<a href=\"https://colab.research.google.com/github/drboo/2022-01-04-python/blob/main/LongestCommonSubsequence.ipynb\" target=\"_parent\"><img src=\"https://colab.research.google.com/assets/colab-badge.svg\" alt=\"Open In Colab\"/></a>"
      ]
    },
    {
      "cell_type": "code",
      "metadata": {
        "id": "available-garlic",
        "outputId": "317ba27a-f2ad-4f37-b558-7f276a1eb0c8",
        "colab": {
          "base_uri": "https://localhost:8080/"
        }
      },
      "source": [
        "try:\n",
        "    %load_ext autotime\n",
        "except:\n",
        "    !pip install ipython-autotime\n",
        "    %load_ext autotime"
      ],
      "id": "available-garlic",
      "execution_count": 1,
      "outputs": [
        {
          "output_type": "stream",
          "name": "stdout",
          "text": [
            "Looking in indexes: https://pypi.org/simple, https://us-python.pkg.dev/colab-wheels/public/simple/\n",
            "Collecting ipython-autotime\n",
            "  Downloading ipython_autotime-0.3.1-py2.py3-none-any.whl (6.8 kB)\n",
            "Requirement already satisfied: ipython in /usr/local/lib/python3.8/dist-packages (from ipython-autotime) (7.9.0)\n",
            "Requirement already satisfied: backcall in /usr/local/lib/python3.8/dist-packages (from ipython->ipython-autotime) (0.2.0)\n",
            "Requirement already satisfied: setuptools>=18.5 in /usr/local/lib/python3.8/dist-packages (from ipython->ipython-autotime) (57.4.0)\n",
            "Requirement already satisfied: prompt-toolkit<2.1.0,>=2.0.0 in /usr/local/lib/python3.8/dist-packages (from ipython->ipython-autotime) (2.0.10)\n",
            "Requirement already satisfied: traitlets>=4.2 in /usr/local/lib/python3.8/dist-packages (from ipython->ipython-autotime) (5.6.0)\n",
            "Collecting jedi>=0.10\n",
            "  Downloading jedi-0.18.2-py2.py3-none-any.whl (1.6 MB)\n",
            "\u001b[K     |████████████████████████████████| 1.6 MB 4.8 MB/s \n",
            "\u001b[?25hRequirement already satisfied: pexpect in /usr/local/lib/python3.8/dist-packages (from ipython->ipython-autotime) (4.8.0)\n",
            "Requirement already satisfied: pickleshare in /usr/local/lib/python3.8/dist-packages (from ipython->ipython-autotime) (0.7.5)\n",
            "Requirement already satisfied: decorator in /usr/local/lib/python3.8/dist-packages (from ipython->ipython-autotime) (4.4.2)\n",
            "Requirement already satisfied: pygments in /usr/local/lib/python3.8/dist-packages (from ipython->ipython-autotime) (2.6.1)\n",
            "Requirement already satisfied: parso<0.9.0,>=0.8.0 in /usr/local/lib/python3.8/dist-packages (from jedi>=0.10->ipython->ipython-autotime) (0.8.3)\n",
            "Requirement already satisfied: wcwidth in /usr/local/lib/python3.8/dist-packages (from prompt-toolkit<2.1.0,>=2.0.0->ipython->ipython-autotime) (0.2.5)\n",
            "Requirement already satisfied: six>=1.9.0 in /usr/local/lib/python3.8/dist-packages (from prompt-toolkit<2.1.0,>=2.0.0->ipython->ipython-autotime) (1.15.0)\n",
            "Requirement already satisfied: ptyprocess>=0.5 in /usr/local/lib/python3.8/dist-packages (from pexpect->ipython->ipython-autotime) (0.7.0)\n",
            "Installing collected packages: jedi, ipython-autotime\n",
            "Successfully installed ipython-autotime-0.3.1 jedi-0.18.2\n",
            "time: 776 µs (started: 2022-12-15 11:26:10 +00:00)\n"
          ]
        }
      ]
    },
    {
      "cell_type": "markdown",
      "metadata": {
        "id": "narrative-picking"
      },
      "source": [
        "## Dynamic Programming Algorithm for Longest Common Subsequence\n",
        "\n",
        "$$\\newcommand\\lcss{\\textsf{lcss}}$$\n",
        "$$\\newcommand\\len{\\textsf{len}}$$\n",
        "\n",
        "Recall the recurrence that we implement to be `Python` friendly assuming that the arguments $i,j$ satisfy\n",
        "$0 \\leq i \\leq \\len(s_1)$ and $0 \\leq j \\leq \\len(s_2)$.\n",
        "\n",
        "\n",
        "$$\\lcss(i, j) = \\begin{cases}\n",
        "0 & i \\geq \\len(s_1) \\\\\n",
        "0 & j \\geq \\len(s_2) \\\\\n",
        "1 + \\lcss(i+1, j+1 ) &  s_1[i] = s_2[j] \\\\ \n",
        "\\max( \\lcss(i+1, j), \\lcss(i, j+1) ) & \\text{otherwise} \\\\ \n",
        "\\end{cases} $$"
      ],
      "id": "narrative-picking"
    },
    {
      "cell_type": "code",
      "metadata": {
        "id": "exceptional-detective",
        "outputId": "c91a2370-d06c-472e-8761-b4a43bd2d8f0",
        "colab": {
          "base_uri": "https://localhost:8080/"
        }
      },
      "source": [
        "def lcs(s1, s2, i, j):\n",
        "    assert 0 <= i and i <= len(s1)\n",
        "    assert 0 <= j and j <= len(s2)\n",
        "    if i == len(s1):\n",
        "        return 0\n",
        "    if j == len(s2):\n",
        "        return 0\n",
        "    if s1[i] == s2[j]:\n",
        "        return 1 + lcs(s1, s2, i+1, j+1)\n",
        "    else:\n",
        "        return max(lcs(s1, s2, i+1, j), lcs(s1, s2, i, j+1))"
      ],
      "id": "exceptional-detective",
      "execution_count": 2,
      "outputs": [
        {
          "output_type": "stream",
          "name": "stdout",
          "text": [
            "time: 3.55 ms (started: 2022-12-15 11:26:24 +00:00)\n"
          ]
        }
      ]
    },
    {
      "cell_type": "markdown",
      "metadata": {
        "id": "controlled-senate"
      },
      "source": [
        "Warning: the recurrence above is quite inefficient. See for yourself."
      ],
      "id": "controlled-senate"
    },
    {
      "cell_type": "code",
      "metadata": {
        "id": "multiple-weekly",
        "outputId": "0fa20522-229e-406c-e1fc-d39f14f4f4e6",
        "colab": {
          "base_uri": "https://localhost:8080/"
        }
      },
      "source": [
        "s1 = \"GATTACA\"\n",
        "s2 = \"ACTGATAACAA\"\n",
        "print(lcs(s1, s2, 0, 0))"
      ],
      "id": "multiple-weekly",
      "execution_count": 3,
      "outputs": [
        {
          "output_type": "stream",
          "name": "stdout",
          "text": [
            "6\n",
            "time: 3.13 ms (started: 2022-12-15 11:26:30 +00:00)\n"
          ]
        }
      ]
    },
    {
      "cell_type": "code",
      "metadata": {
        "id": "limited-former",
        "outputId": "9366fc9b-ba04-4fcf-dad5-5ad149ae3610",
        "colab": {
          "base_uri": "https://localhost:8080/"
        }
      },
      "source": [
        "s1 = \"GGATTACCATTATGGAGGCGGA\"\n",
        "s2 = \"ACTTAGGTAGG\"\n",
        "print(lcs(s1, s2, 0, 0))"
      ],
      "id": "limited-former",
      "execution_count": 4,
      "outputs": [
        {
          "output_type": "stream",
          "name": "stdout",
          "text": [
            "10\n",
            "time: 202 ms (started: 2022-12-15 11:26:35 +00:00)\n"
          ]
        }
      ]
    },
    {
      "cell_type": "code",
      "metadata": {
        "id": "exotic-thing",
        "outputId": "fcce8577-f976-4cc7-8a59-17c91394e686",
        "colab": {
          "base_uri": "https://localhost:8080/"
        }
      },
      "source": [
        "# This is just slightly longer and will take more than a minute and a half to run\n",
        "s1 = \"GGATTACCATTATGGAGGCGGA\"\n",
        "s2 = \"ACTTAGGTAGATTATCCG\"\n",
        "print(lcs(s1, s2, 0, 0))"
      ],
      "id": "exotic-thing",
      "execution_count": 5,
      "outputs": [
        {
          "output_type": "stream",
          "name": "stdout",
          "text": [
            "11\n",
            "time: 1min 32s (started: 2022-12-15 11:26:40 +00:00)\n"
          ]
        }
      ]
    },
    {
      "cell_type": "code",
      "metadata": {
        "id": "narrative-vienna"
      },
      "source": [
        "#slightly longer strings will take \"forever\" to run\n",
        "s1 = \"GGATTACACATTACCTATAGGTATAAT\"\n",
        "s2 = \"GGATTTATCTATAAATTACCTATTTATTATATTACCGTATGGTATGC\"\n",
        "print(lcs(s1, s2, 0, 0))"
      ],
      "id": "narrative-vienna",
      "execution_count": null,
      "outputs": []
    },
    {
      "cell_type": "code",
      "metadata": {
        "id": "sticky-stream"
      },
      "source": [
        "#Let's memoize\n",
        "\n",
        "def memoize_lcs(s1, s2):\n",
        "    m = len(s1)\n",
        "    n = len(s2)\n",
        "    # let's create a memo table and fill it with zeros. This will nicely take care of the base cases.\n",
        "    memo_tbl = [ [0 for j in range(n+1)] for i in range(m+1)]\n",
        "    sol_info = [ ['' for j in range(n+1)] for i in range(m+1)] # This will help us recover solutions\n",
        "    for i in range(m-1, -1, -1): # iterate from m-1 to 0 with a step of -1\n",
        "        for j in range(n-1, -1, -1):\n",
        "            if s1[i] == s2[j]:\n",
        "                memo_tbl[i][j] = memo_tbl[i+1][j+1] + 1\n",
        "                sol_info[i][j] = 'match'\n",
        "            else: \n",
        "                # Python allows us to compare and assign tuples\n",
        "                # This nifty bit of code saves us an if then else condition and assignments\n",
        "                # if you are new to python feel free to write out the logic carefully\n",
        "                memo_tbl[i][j], sol_info[i][j] = max((memo_tbl[i+1][j],'right'), (memo_tbl[i][j+1], 'down'))\n",
        "    # Now let us recover the longest common sub sequence\n",
        "    lcs = '' # initialize it to empty string\n",
        "    match_locations = [] # matches of (i,j)\n",
        "    i = 0\n",
        "    j = 0 # start at top left corner\n",
        "    while (i < m and j < n):\n",
        "        if sol_info[i][j] == 'match':\n",
        "            assert s1[i] == s2[j]\n",
        "            lcs = lcs + s1[i]\n",
        "            match_locations.append((i,j))\n",
        "            i,j = i + 1, j + 1\n",
        "        elif sol_info[i][j] == 'right':\n",
        "            i, j = i+1, j\n",
        "        else: \n",
        "            assert sol_info[i][j] == 'down'\n",
        "            i, j = i, j+1\n",
        "    return lcs, match_locations"
      ],
      "id": "sticky-stream",
      "execution_count": null,
      "outputs": []
    },
    {
      "cell_type": "code",
      "metadata": {
        "id": "challenging-bosnia",
        "outputId": "654cdf22-efa4-4466-86e0-10ab9b806c80"
      },
      "source": [
        "s1 = \"GATTACA\"\n",
        "s2 = \"ACTGATAACAA\"\n",
        "(lcs, match_locations) = memoize_lcs(s1, s2)\n",
        "print(f'Longest common subsequence: {lcs} length= {len(lcs)}')\n",
        "print('Matches:')\n",
        "print('\\t Char:\\t i, j')\n",
        "for (i, j) in match_locations:\n",
        "    print(f'\\t {s1[i]}:\\t {i}, {j}')\n"
      ],
      "id": "challenging-bosnia",
      "execution_count": null,
      "outputs": [
        {
          "output_type": "stream",
          "text": [
            "Longest common subsequence: ATTACA length= 6\n",
            "Matches:\n",
            "\t Char:\t i, j\n",
            "\t A:\t 1, 0\n",
            "\t T:\t 2, 2\n",
            "\t T:\t 3, 5\n",
            "\t A:\t 4, 6\n",
            "\t C:\t 5, 8\n",
            "\t A:\t 6, 9\n",
            "time: 1.47 ms (started: 2021-05-20 12:35:46 -06:00)\n"
          ],
          "name": "stdout"
        }
      ]
    },
    {
      "cell_type": "code",
      "metadata": {
        "id": "collaborative-chrome",
        "outputId": "a33fc11f-0f45-498f-e351-0ef1fd78f7b5"
      },
      "source": [
        "s1 = \"GGATTACCATTATGGAGGCGGA\"\n",
        "s2 = \"ACTTAGGTAGG\"\n",
        "(lcs, match_locations) = memoize_lcs(s1, s2)\n",
        "print(f'Longest common subsequence: {lcs} length= {len(lcs)}')\n",
        "print('Matches:')\n",
        "print('\\t Char:\\t i, j')\n",
        "for (i, j) in match_locations:\n",
        "    print(f'\\t {s1[i]}:\\t {i}, {j}')"
      ],
      "id": "collaborative-chrome",
      "execution_count": null,
      "outputs": [
        {
          "output_type": "stream",
          "text": [
            "Longest common subsequence: ACTTAGGAGG length= 10\n",
            "Matches:\n",
            "\t Char:\t i, j\n",
            "\t A:\t 2, 0\n",
            "\t C:\t 6, 1\n",
            "\t T:\t 9, 2\n",
            "\t T:\t 10, 3\n",
            "\t A:\t 11, 4\n",
            "\t G:\t 13, 5\n",
            "\t G:\t 14, 6\n",
            "\t A:\t 15, 8\n",
            "\t G:\t 16, 9\n",
            "\t G:\t 17, 10\n",
            "time: 2.18 ms (started: 2021-05-20 12:36:09 -06:00)\n"
          ],
          "name": "stdout"
        }
      ]
    },
    {
      "cell_type": "code",
      "metadata": {
        "id": "reserved-blogger",
        "outputId": "3b3c44e1-a68d-4481-e885-1213adbbaa80"
      },
      "source": [
        "s1 = \"GGATTACCATTATGGAGGCGGA\"\n",
        "s2 = \"ACTTAGGTAGATTATCCG\"\n",
        "(lcs, match_locations) = memoize_lcs(s1, s2)\n",
        "print(f'Longest common subsequence: {lcs} length= {len(lcs)}')\n",
        "print('Matches:')\n",
        "print('\\t Char:\\t i, j')\n",
        "for (i, j) in match_locations:\n",
        "    print(f'\\t {s1[i]}:\\t {i}, {j}')"
      ],
      "id": "reserved-blogger",
      "execution_count": null,
      "outputs": [
        {
          "output_type": "stream",
          "text": [
            "Longest common subsequence: ACTTAGGAGCG length= 11\n",
            "Matches:\n",
            "\t Char:\t i, j\n",
            "\t A:\t 2, 0\n",
            "\t C:\t 6, 1\n",
            "\t T:\t 9, 2\n",
            "\t T:\t 10, 3\n",
            "\t A:\t 11, 4\n",
            "\t G:\t 13, 5\n",
            "\t G:\t 14, 6\n",
            "\t A:\t 15, 8\n",
            "\t G:\t 16, 9\n",
            "\t C:\t 18, 15\n",
            "\t G:\t 20, 17\n",
            "time: 1.76 ms (started: 2021-05-20 12:36:29 -06:00)\n"
          ],
          "name": "stdout"
        }
      ]
    },
    {
      "cell_type": "code",
      "metadata": {
        "id": "numeric-market",
        "outputId": "1da16006-2d22-4907-9373-d95eebd79166"
      },
      "source": [
        "#slightly longer strings will run instantaneously given that we are memoizing\n",
        "s1 = \"GGATTACACATTACCTATAGGTATAAT\"\n",
        "s2 = \"GGATTTATCTATAAATTACCTATTTATTATATTACCGTATGGTATGC\"\n",
        "(lcs, match_locations) = memoize_lcs(s1, s2)\n",
        "print(f'Longest common subsequence: {lcs} length= {len(lcs)}')\n",
        "print('Matches:')\n",
        "print('\\t Char:\\t i, j')\n",
        "for (i, j) in match_locations:\n",
        "    print(f'\\t {s1[i]}:\\t {i}, {j}')"
      ],
      "id": "numeric-market",
      "execution_count": null,
      "outputs": [
        {
          "output_type": "stream",
          "text": [
            "Longest common subsequence: GGATTACAATTACCTATATATAAT length= 24\n",
            "Matches:\n",
            "\t Char:\t i, j\n",
            "\t G:\t 0, 0\n",
            "\t G:\t 1, 1\n",
            "\t A:\t 2, 2\n",
            "\t T:\t 3, 3\n",
            "\t T:\t 4, 4\n",
            "\t A:\t 5, 6\n",
            "\t C:\t 6, 8\n",
            "\t A:\t 7, 10\n",
            "\t A:\t 9, 12\n",
            "\t T:\t 10, 15\n",
            "\t T:\t 11, 16\n",
            "\t A:\t 12, 17\n",
            "\t C:\t 13, 18\n",
            "\t C:\t 14, 19\n",
            "\t T:\t 15, 20\n",
            "\t A:\t 16, 21\n",
            "\t T:\t 17, 22\n",
            "\t A:\t 18, 25\n",
            "\t T:\t 21, 26\n",
            "\t A:\t 22, 28\n",
            "\t T:\t 23, 29\n",
            "\t A:\t 24, 30\n",
            "\t A:\t 25, 33\n",
            "\t T:\t 26, 37\n",
            "time: 2.81 ms (started: 2021-05-20 12:37:00 -06:00)\n"
          ],
          "name": "stdout"
        }
      ]
    },
    {
      "cell_type": "code",
      "metadata": {
        "id": "printable-proof"
      },
      "source": [],
      "id": "printable-proof",
      "execution_count": null,
      "outputs": []
    }
  ]
}